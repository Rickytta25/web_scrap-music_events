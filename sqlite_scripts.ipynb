{
 "cells": [
  {
   "cell_type": "markdown",
   "id": "ebbc2f71-3d90-4fda-9dcc-f2834b5d1610",
   "metadata": {},
   "source": [
    "## Create connection to the SQLite database"
   ]
  },
  {
   "cell_type": "code",
   "execution_count": null,
   "id": "6b8f312b-64ce-4ef9-be97-2b748dd1d372",
   "metadata": {},
   "outputs": [],
   "source": [
    "import sqlite3\n",
    "\n",
    "connection = sqlite3.connect(\"event_data.db\")\n",
    "cursor = connection.cursor()"
   ]
  },
  {
   "cell_type": "markdown",
   "id": "6527b10d-441c-406e-bd9b-eea5fa91eade",
   "metadata": {},
   "source": [
    "## Add 1 new row"
   ]
  },
  {
   "cell_type": "code",
   "execution_count": null,
   "id": "1dd648d5-a11d-4392-b0d6-28cb252165fe",
   "metadata": {},
   "outputs": [],
   "source": [
    "cursor.execute(\"INSERT INTO events VALUES ('Tigers', 'Tiger City', '2088.10.14.')\")\n",
    "INSERT INTO temperature VALUES ('25-05-20-08-07-00', 19)\n",
    "connection.commit()"
   ]
  },
  {
   "cell_type": "markdown",
   "id": "ac33f712-787c-4b71-9df7-9886cd207258",
   "metadata": {},
   "source": [
    "## Add more new rows"
   ]
  },
  {
   "cell_type": "code",
   "execution_count": null,
   "id": "c08ff754-b9e4-47dc-b161-86608d5fe8bf",
   "metadata": {},
   "outputs": [],
   "source": [
    "new_rows = [('Black Cats', 'Cat City', '2088.11.16.'),\n",
    "            ('Blue Dinos', 'Dino City', '2088.10.20.')]\n",
    "\n",
    "cursor.executemany(\"INSERT INTO events VALUES (?,?,?)\", new_rows)\n",
    "connection.commit()"
   ]
  },
  {
   "cell_type": "markdown",
   "id": "e91e1bfb-f305-4ac7-a9cb-3e303c6f7a97",
   "metadata": {},
   "source": [
    "## Filter data"
   ]
  },
  {
   "cell_type": "code",
   "execution_count": null,
   "id": "8a0421ac-1d1f-4f23-a08e-fde26df0cca0",
   "metadata": {},
   "outputs": [],
   "source": [
    "cursor.execute(\"SELECT * FROM events WHERE date='2088.10.15'\")\n",
    "rows = cursor.fetchall()"
   ]
  }
 ],
 "metadata": {
  "kernelspec": {
   "display_name": "Python 3 (ipykernel)",
   "language": "python",
   "name": "python3"
  },
  "language_info": {
   "codemirror_mode": {
    "name": "ipython",
    "version": 3
   },
   "file_extension": ".py",
   "mimetype": "text/x-python",
   "name": "python",
   "nbconvert_exporter": "python",
   "pygments_lexer": "ipython3",
   "version": "3.12.7"
  }
 },
 "nbformat": 4,
 "nbformat_minor": 5
}
